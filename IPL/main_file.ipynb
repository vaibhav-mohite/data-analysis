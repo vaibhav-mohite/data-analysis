{
  "nbformat": 4,
  "nbformat_minor": 0,
  "metadata": {
    "colab": {
      "name": "IPL-DataAnalysis-Notebook",
      "provenance": [],
      "collapsed_sections": []
    },
    "kernelspec": {
      "name": "python3",
      "display_name": "Python 3"
    }
  },
  "cells": [
    {
      "cell_type": "code",
      "metadata": {
        "id": "BRfA-yDV3Zw1",
        "colab_type": "code",
        "colab": {}
      },
      "source": [
        "import numpy as np\n",
        "import pandas as pd\n",
        "from matplotlib import pyplot as plt\n",
        "\n",
        "import warnings\n",
        "warnings.simplefilter(action = \"ignore\", category = FutureWarning)"
      ],
      "execution_count": 2,
      "outputs": []
    },
    {
      "cell_type": "code",
      "metadata": {
        "id": "FTC9u6-94WH9",
        "colab_type": "code",
        "colab": {}
      },
      "source": [
        "deliveries = pd.read_csv(r\"/content/drive/My Drive/Colab Notebooks/Data Science/Data Analysis/IPL_Data_Analysis/deliveries.csv\")\n",
        "matches = pd.read_csv(r\"/content/drive/My Drive/Colab Notebooks/Data Science/Data Analysis/IPL_Data_Analysis/matches.csv\")"
      ],
      "execution_count": 3,
      "outputs": []
    },
    {
      "cell_type": "code",
      "metadata": {
        "id": "U2luk6aLBTzb",
        "colab_type": "code",
        "colab": {
          "base_uri": "https://localhost:8080/",
          "height": 391
        },
        "outputId": "8274cd16-5e8f-43fd-cd99-f8455cd9162b"
      },
      "source": [
        "deliveries.head()"
      ],
      "execution_count": 4,
      "outputs": [
        {
          "output_type": "execute_result",
          "data": {
            "text/html": [
              "<div>\n",
              "<style scoped>\n",
              "    .dataframe tbody tr th:only-of-type {\n",
              "        vertical-align: middle;\n",
              "    }\n",
              "\n",
              "    .dataframe tbody tr th {\n",
              "        vertical-align: top;\n",
              "    }\n",
              "\n",
              "    .dataframe thead th {\n",
              "        text-align: right;\n",
              "    }\n",
              "</style>\n",
              "<table border=\"1\" class=\"dataframe\">\n",
              "  <thead>\n",
              "    <tr style=\"text-align: right;\">\n",
              "      <th></th>\n",
              "      <th>match_id</th>\n",
              "      <th>inning</th>\n",
              "      <th>batting_team</th>\n",
              "      <th>bowling_team</th>\n",
              "      <th>over</th>\n",
              "      <th>ball</th>\n",
              "      <th>batsman</th>\n",
              "      <th>non_striker</th>\n",
              "      <th>bowler</th>\n",
              "      <th>is_super_over</th>\n",
              "      <th>wide_runs</th>\n",
              "      <th>bye_runs</th>\n",
              "      <th>legbye_runs</th>\n",
              "      <th>noball_runs</th>\n",
              "      <th>penalty_runs</th>\n",
              "      <th>batsman_runs</th>\n",
              "      <th>extra_runs</th>\n",
              "      <th>total_runs</th>\n",
              "      <th>player_dismissed</th>\n",
              "      <th>dismissal_kind</th>\n",
              "      <th>fielder</th>\n",
              "    </tr>\n",
              "  </thead>\n",
              "  <tbody>\n",
              "    <tr>\n",
              "      <th>0</th>\n",
              "      <td>1</td>\n",
              "      <td>1</td>\n",
              "      <td>Sunrisers Hyderabad</td>\n",
              "      <td>Royal Challengers Bangalore</td>\n",
              "      <td>1</td>\n",
              "      <td>1</td>\n",
              "      <td>DA Warner</td>\n",
              "      <td>S Dhawan</td>\n",
              "      <td>TS Mills</td>\n",
              "      <td>0</td>\n",
              "      <td>0</td>\n",
              "      <td>0</td>\n",
              "      <td>0</td>\n",
              "      <td>0</td>\n",
              "      <td>0</td>\n",
              "      <td>0</td>\n",
              "      <td>0</td>\n",
              "      <td>0</td>\n",
              "      <td>NaN</td>\n",
              "      <td>NaN</td>\n",
              "      <td>NaN</td>\n",
              "    </tr>\n",
              "    <tr>\n",
              "      <th>1</th>\n",
              "      <td>1</td>\n",
              "      <td>1</td>\n",
              "      <td>Sunrisers Hyderabad</td>\n",
              "      <td>Royal Challengers Bangalore</td>\n",
              "      <td>1</td>\n",
              "      <td>2</td>\n",
              "      <td>DA Warner</td>\n",
              "      <td>S Dhawan</td>\n",
              "      <td>TS Mills</td>\n",
              "      <td>0</td>\n",
              "      <td>0</td>\n",
              "      <td>0</td>\n",
              "      <td>0</td>\n",
              "      <td>0</td>\n",
              "      <td>0</td>\n",
              "      <td>0</td>\n",
              "      <td>0</td>\n",
              "      <td>0</td>\n",
              "      <td>NaN</td>\n",
              "      <td>NaN</td>\n",
              "      <td>NaN</td>\n",
              "    </tr>\n",
              "    <tr>\n",
              "      <th>2</th>\n",
              "      <td>1</td>\n",
              "      <td>1</td>\n",
              "      <td>Sunrisers Hyderabad</td>\n",
              "      <td>Royal Challengers Bangalore</td>\n",
              "      <td>1</td>\n",
              "      <td>3</td>\n",
              "      <td>DA Warner</td>\n",
              "      <td>S Dhawan</td>\n",
              "      <td>TS Mills</td>\n",
              "      <td>0</td>\n",
              "      <td>0</td>\n",
              "      <td>0</td>\n",
              "      <td>0</td>\n",
              "      <td>0</td>\n",
              "      <td>0</td>\n",
              "      <td>4</td>\n",
              "      <td>0</td>\n",
              "      <td>4</td>\n",
              "      <td>NaN</td>\n",
              "      <td>NaN</td>\n",
              "      <td>NaN</td>\n",
              "    </tr>\n",
              "    <tr>\n",
              "      <th>3</th>\n",
              "      <td>1</td>\n",
              "      <td>1</td>\n",
              "      <td>Sunrisers Hyderabad</td>\n",
              "      <td>Royal Challengers Bangalore</td>\n",
              "      <td>1</td>\n",
              "      <td>4</td>\n",
              "      <td>DA Warner</td>\n",
              "      <td>S Dhawan</td>\n",
              "      <td>TS Mills</td>\n",
              "      <td>0</td>\n",
              "      <td>0</td>\n",
              "      <td>0</td>\n",
              "      <td>0</td>\n",
              "      <td>0</td>\n",
              "      <td>0</td>\n",
              "      <td>0</td>\n",
              "      <td>0</td>\n",
              "      <td>0</td>\n",
              "      <td>NaN</td>\n",
              "      <td>NaN</td>\n",
              "      <td>NaN</td>\n",
              "    </tr>\n",
              "    <tr>\n",
              "      <th>4</th>\n",
              "      <td>1</td>\n",
              "      <td>1</td>\n",
              "      <td>Sunrisers Hyderabad</td>\n",
              "      <td>Royal Challengers Bangalore</td>\n",
              "      <td>1</td>\n",
              "      <td>5</td>\n",
              "      <td>DA Warner</td>\n",
              "      <td>S Dhawan</td>\n",
              "      <td>TS Mills</td>\n",
              "      <td>0</td>\n",
              "      <td>2</td>\n",
              "      <td>0</td>\n",
              "      <td>0</td>\n",
              "      <td>0</td>\n",
              "      <td>0</td>\n",
              "      <td>0</td>\n",
              "      <td>2</td>\n",
              "      <td>2</td>\n",
              "      <td>NaN</td>\n",
              "      <td>NaN</td>\n",
              "      <td>NaN</td>\n",
              "    </tr>\n",
              "  </tbody>\n",
              "</table>\n",
              "</div>"
            ],
            "text/plain": [
              "   match_id  inning  ... dismissal_kind fielder\n",
              "0         1       1  ...            NaN     NaN\n",
              "1         1       1  ...            NaN     NaN\n",
              "2         1       1  ...            NaN     NaN\n",
              "3         1       1  ...            NaN     NaN\n",
              "4         1       1  ...            NaN     NaN\n",
              "\n",
              "[5 rows x 21 columns]"
            ]
          },
          "metadata": {
            "tags": []
          },
          "execution_count": 4
        }
      ]
    },
    {
      "cell_type": "code",
      "metadata": {
        "id": "NK7S7nyeBYIW",
        "colab_type": "code",
        "colab": {
          "base_uri": "https://localhost:8080/",
          "height": 374
        },
        "outputId": "ad7e43ed-2fbf-4fcd-965a-706871d6a8c5"
      },
      "source": [
        "matches.head()"
      ],
      "execution_count": 5,
      "outputs": [
        {
          "output_type": "execute_result",
          "data": {
            "text/html": [
              "<div>\n",
              "<style scoped>\n",
              "    .dataframe tbody tr th:only-of-type {\n",
              "        vertical-align: middle;\n",
              "    }\n",
              "\n",
              "    .dataframe tbody tr th {\n",
              "        vertical-align: top;\n",
              "    }\n",
              "\n",
              "    .dataframe thead th {\n",
              "        text-align: right;\n",
              "    }\n",
              "</style>\n",
              "<table border=\"1\" class=\"dataframe\">\n",
              "  <thead>\n",
              "    <tr style=\"text-align: right;\">\n",
              "      <th></th>\n",
              "      <th>id</th>\n",
              "      <th>season</th>\n",
              "      <th>city</th>\n",
              "      <th>date</th>\n",
              "      <th>team1</th>\n",
              "      <th>team2</th>\n",
              "      <th>toss_winner</th>\n",
              "      <th>toss_decision</th>\n",
              "      <th>result</th>\n",
              "      <th>dl_applied</th>\n",
              "      <th>winner</th>\n",
              "      <th>win_by_runs</th>\n",
              "      <th>win_by_wickets</th>\n",
              "      <th>player_of_match</th>\n",
              "      <th>venue</th>\n",
              "      <th>umpire1</th>\n",
              "      <th>umpire2</th>\n",
              "      <th>umpire3</th>\n",
              "    </tr>\n",
              "  </thead>\n",
              "  <tbody>\n",
              "    <tr>\n",
              "      <th>0</th>\n",
              "      <td>11415</td>\n",
              "      <td>2019</td>\n",
              "      <td>Hyderabad</td>\n",
              "      <td>12/05/2019</td>\n",
              "      <td>Mumbai Indians</td>\n",
              "      <td>Chennai Super Kings</td>\n",
              "      <td>Mumbai Indians</td>\n",
              "      <td>bat</td>\n",
              "      <td>normal</td>\n",
              "      <td>0</td>\n",
              "      <td>Mumbai Indians</td>\n",
              "      <td>1</td>\n",
              "      <td>0</td>\n",
              "      <td>JJ Bumrah</td>\n",
              "      <td>Rajiv Gandhi Intl. Cricket Stadium</td>\n",
              "      <td>Nitin Menon</td>\n",
              "      <td>Ian Gould</td>\n",
              "      <td>Nigel Llong</td>\n",
              "    </tr>\n",
              "    <tr>\n",
              "      <th>1</th>\n",
              "      <td>11414</td>\n",
              "      <td>2019</td>\n",
              "      <td>Visakhapatnam</td>\n",
              "      <td>10/05/2019</td>\n",
              "      <td>Delhi Capitals</td>\n",
              "      <td>Chennai Super Kings</td>\n",
              "      <td>Chennai Super Kings</td>\n",
              "      <td>field</td>\n",
              "      <td>normal</td>\n",
              "      <td>0</td>\n",
              "      <td>Chennai Super Kings</td>\n",
              "      <td>0</td>\n",
              "      <td>6</td>\n",
              "      <td>F du Plessis</td>\n",
              "      <td>ACA-VDCA Stadium</td>\n",
              "      <td>Sundaram Ravi</td>\n",
              "      <td>Bruce Oxenford</td>\n",
              "      <td>Chettithody Shamshuddin</td>\n",
              "    </tr>\n",
              "    <tr>\n",
              "      <th>2</th>\n",
              "      <td>11413</td>\n",
              "      <td>2019</td>\n",
              "      <td>Visakhapatnam</td>\n",
              "      <td>08/05/2019</td>\n",
              "      <td>Sunrisers Hyderabad</td>\n",
              "      <td>Delhi Capitals</td>\n",
              "      <td>Delhi Capitals</td>\n",
              "      <td>field</td>\n",
              "      <td>normal</td>\n",
              "      <td>0</td>\n",
              "      <td>Delhi Capitals</td>\n",
              "      <td>0</td>\n",
              "      <td>2</td>\n",
              "      <td>RR Pant</td>\n",
              "      <td>ACA-VDCA Stadium</td>\n",
              "      <td>NaN</td>\n",
              "      <td>NaN</td>\n",
              "      <td>NaN</td>\n",
              "    </tr>\n",
              "    <tr>\n",
              "      <th>3</th>\n",
              "      <td>11412</td>\n",
              "      <td>2019</td>\n",
              "      <td>Chennai</td>\n",
              "      <td>07/05/2019</td>\n",
              "      <td>Chennai Super Kings</td>\n",
              "      <td>Mumbai Indians</td>\n",
              "      <td>Chennai Super Kings</td>\n",
              "      <td>bat</td>\n",
              "      <td>normal</td>\n",
              "      <td>0</td>\n",
              "      <td>Mumbai Indians</td>\n",
              "      <td>0</td>\n",
              "      <td>6</td>\n",
              "      <td>AS Yadav</td>\n",
              "      <td>M. A. Chidambaram Stadium</td>\n",
              "      <td>Nigel Llong</td>\n",
              "      <td>Nitin Menon</td>\n",
              "      <td>Ian Gould</td>\n",
              "    </tr>\n",
              "    <tr>\n",
              "      <th>4</th>\n",
              "      <td>11346</td>\n",
              "      <td>2019</td>\n",
              "      <td>Mohali</td>\n",
              "      <td>05/05/2019</td>\n",
              "      <td>Chennai Super Kings</td>\n",
              "      <td>Kings XI Punjab</td>\n",
              "      <td>Kings XI Punjab</td>\n",
              "      <td>field</td>\n",
              "      <td>normal</td>\n",
              "      <td>0</td>\n",
              "      <td>Kings XI Punjab</td>\n",
              "      <td>0</td>\n",
              "      <td>6</td>\n",
              "      <td>KL Rahul</td>\n",
              "      <td>IS Bindra Stadium</td>\n",
              "      <td>KN Ananthapadmanabhan</td>\n",
              "      <td>C Shamshuddin</td>\n",
              "      <td>Bruce Oxenford</td>\n",
              "    </tr>\n",
              "  </tbody>\n",
              "</table>\n",
              "</div>"
            ],
            "text/plain": [
              "      id  season  ...         umpire2                  umpire3\n",
              "0  11415    2019  ...       Ian Gould              Nigel Llong\n",
              "1  11414    2019  ...  Bruce Oxenford  Chettithody Shamshuddin\n",
              "2  11413    2019  ...             NaN                      NaN\n",
              "3  11412    2019  ...     Nitin Menon                Ian Gould\n",
              "4  11346    2019  ...   C Shamshuddin           Bruce Oxenford\n",
              "\n",
              "[5 rows x 18 columns]"
            ]
          },
          "metadata": {
            "tags": []
          },
          "execution_count": 5
        }
      ]
    },
    {
      "cell_type": "markdown",
      "metadata": {
        "id": "XC_GBCM-kQVO",
        "colab_type": "text"
      },
      "source": [
        "##**Most Runs**"
      ]
    },
    {
      "cell_type": "code",
      "metadata": {
        "id": "bSBKhUFJkPrX",
        "colab_type": "code",
        "colab": {
          "base_uri": "https://localhost:8080/",
          "height": 235
        },
        "outputId": "1f087a2e-2d22-4c59-894e-e602283408bb"
      },
      "source": [
        "batsman_runs = deliveries.groupby(deliveries.batsman).batsman_runs.sum()\n",
        "most_runs = batsman_runs.sort_values(ascending=False).head(10)\n",
        "most_runs"
      ],
      "execution_count": 6,
      "outputs": [
        {
          "output_type": "execute_result",
          "data": {
            "text/plain": [
              "batsman\n",
              "V Kohli           5434\n",
              "SK Raina          5415\n",
              "RG Sharma         4914\n",
              "DA Warner         4741\n",
              "S Dhawan          4632\n",
              "CH Gayle          4560\n",
              "MS Dhoni          4477\n",
              "RV Uthappa        4446\n",
              "AB de Villiers    4428\n",
              "G Gambhir         4223\n",
              "Name: batsman_runs, dtype: int64"
            ]
          },
          "metadata": {
            "tags": []
          },
          "execution_count": 6
        }
      ]
    },
    {
      "cell_type": "code",
      "metadata": {
        "id": "kFYel210wYI_",
        "colab_type": "code",
        "colab": {
          "base_uri": "https://localhost:8080/",
          "height": 353
        },
        "outputId": "38467a60-765e-4107-9851-03426be3d43c"
      },
      "source": [
        "most_runs.plot(kind='bar',color=['crimson','yellow','blue','orange','orange','crimson','yellow','indigo','crimson','indigo'])"
      ],
      "execution_count": 7,
      "outputs": [
        {
          "output_type": "execute_result",
          "data": {
            "text/plain": [
              "<matplotlib.axes._subplots.AxesSubplot at 0x7fa837b1b320>"
            ]
          },
          "metadata": {
            "tags": []
          },
          "execution_count": 7
        },
        {
          "output_type": "display_data",
          "data": {
            "image/png": "[encoded data removed]",
            "text/plain": [
              "<Figure size 432x288 with 1 Axes>"
            ]
          },
          "metadata": {
            "tags": [],
            "needs_background": "light"
          }
        }
      ]
    },
    {
      "cell_type": "markdown",
      "metadata": {
        "id": "AGOSuMhSVWJ0",
        "colab_type": "text"
      },
      "source": [
        "Observations :\n",
        "1. Virat Kohli & Suresh Raina are the leading Run Scorers in IPL so far with a very marginal difference.\n",
        "2. There is close to 10% difference between the 2nd & 3rd Top Scorer.\n",
        "3. Only 3 foreign players are in Top 10 Run Scorers\n",
        "4. RCB has 3 Players in Top 10 leading Scorers"
      ]
    },
    {
      "cell_type": "markdown",
      "metadata": {
        "id": "YScxE1Rds61b",
        "colab_type": "text"
      },
      "source": [
        "##**Most Wickets**"
      ]
    },
    {
      "cell_type": "code",
      "metadata": {
        "id": "mW5TbbnPs5ti",
        "colab_type": "code",
        "colab": {
          "base_uri": "https://localhost:8080/",
          "height": 235
        },
        "outputId": "0e59ebbb-38b0-46ef-bb91-3c995af439ea"
      },
      "source": [
        "bowler_wickets = deliveries.groupby(deliveries.bowler).player_dismissed.count()\n",
        "most_wickets = bowler_wickets.sort_values(ascending=False).head(10)\n",
        "most_wickets"
      ],
      "execution_count": 8,
      "outputs": [
        {
          "output_type": "execute_result",
          "data": {
            "text/plain": [
              "bowler\n",
              "SL Malinga         188\n",
              "DJ Bravo           168\n",
              "A Mishra           165\n",
              "Harbhajan Singh    161\n",
              "PP Chawla          156\n",
              "B Kumar            141\n",
              "R Ashwin           138\n",
              "SP Narine          137\n",
              "UT Yadav           136\n",
              "R Vinay Kumar      127\n",
              "Name: player_dismissed, dtype: int64"
            ]
          },
          "metadata": {
            "tags": []
          },
          "execution_count": 8
        }
      ]
    },
    {
      "cell_type": "code",
      "metadata": {
        "id": "MpiyGtaHxcTe",
        "colab_type": "code",
        "colab": {
          "base_uri": "https://localhost:8080/",
          "height": 371
        },
        "outputId": "285c3695-a88e-4632-ac3c-2b84d1d8f03c"
      },
      "source": [
        "most_wickets.plot(kind='bar',color=['blue','yellow','red','yellow','indigo','orange','yellow','indigo','crimson','indigo'])"
      ],
      "execution_count": 9,
      "outputs": [
        {
          "output_type": "execute_result",
          "data": {
            "text/plain": [
              "<matplotlib.axes._subplots.AxesSubplot at 0x7fa837a62d68>"
            ]
          },
          "metadata": {
            "tags": []
          },
          "execution_count": 9
        },
        {
          "output_type": "display_data",
          "data": {
            "image/png": "[encoded data removed]",
            "text/plain": [
              "<Figure size 432x288 with 1 Axes>"
            ]
          },
          "metadata": {
            "tags": [],
            "needs_background": "light"
          }
        }
      ]
    },
    {
      "cell_type": "markdown",
      "metadata": {
        "id": "y5irq15GWyeD",
        "colab_type": "text"
      },
      "source": [
        "Observations :\n",
        "1. Lasith Malinga is the most successfull Bowler of All-time\n",
        "2. Both Pacers and Spinners seem to have dominated, there are 5 spinners & 5 fast bowlers in top 10\n",
        "3. CSK & KKR have 3 Bowlers each in Top 10 "
      ]
    },
    {
      "cell_type": "markdown",
      "metadata": {
        "id": "XRclNHDN13mn",
        "colab_type": "text"
      },
      "source": [
        "##**Most Catches**"
      ]
    },
    {
      "cell_type": "code",
      "metadata": {
        "id": "jWT5Qcz718Vk",
        "colab_type": "code",
        "colab": {
          "base_uri": "https://localhost:8080/",
          "height": 217
        },
        "outputId": "bc698e57-b158-4cc5-adf2-16fd701b31fe"
      },
      "source": [
        "deliveries.head()\n",
        "catches = deliveries.fielder.value_counts()\n",
        "most_catches = catches.head(10)\n",
        "most_catches"
      ],
      "execution_count": 10,
      "outputs": [
        {
          "output_type": "execute_result",
          "data": {
            "text/plain": [
              "MS Dhoni          159\n",
              "KD Karthik        152\n",
              "RV Uthappa        125\n",
              "SK Raina          115\n",
              "AB de Villiers    114\n",
              "PA Patel           97\n",
              "RG Sharma          92\n",
              "V Kohli            90\n",
              "KA Pollard         85\n",
              "NV Ojha            82\n",
              "Name: fielder, dtype: int64"
            ]
          },
          "metadata": {
            "tags": []
          },
          "execution_count": 10
        }
      ]
    },
    {
      "cell_type": "code",
      "metadata": {
        "id": "MoZZ6CNI2pWE",
        "colab_type": "code",
        "colab": {
          "base_uri": "https://localhost:8080/",
          "height": 339
        },
        "outputId": "0ee19112-3fe8-4ef0-fdbf-470b39849a8c"
      },
      "source": [
        "most_catches.plot(kind='bar',color=['yellow','indigo','indigo','yellow','crimson','crimson','purple','crimson','purple','orange'])"
      ],
      "execution_count": 11,
      "outputs": [
        {
          "output_type": "execute_result",
          "data": {
            "text/plain": [
              "<matplotlib.axes._subplots.AxesSubplot at 0x7fa837a999e8>"
            ]
          },
          "metadata": {
            "tags": []
          },
          "execution_count": 11
        },
        {
          "output_type": "display_data",
          "data": {
            "image/png": "[encoded data removed]",
            "text/plain": [
              "<Figure size 432x288 with 1 Axes>"
            ]
          },
          "metadata": {
            "tags": [],
            "needs_background": "light"
          }
        }
      ]
    },
    {
      "cell_type": "markdown",
      "metadata": {
        "id": "y5BaAIcLZATi",
        "colab_type": "text"
      },
      "source": [
        "Observations :\n",
        "1. As Expected, three wicket-keepers are at the top of the list of Most Catches\n",
        "2. Suresh Raina tops the list of most catches by a non-wk\n",
        "3. 5 Wicket-Keepers are in Top 10 list of most catches."
      ]
    },
    {
      "cell_type": "markdown",
      "metadata": {
        "id": "_56vstFUCfk0",
        "colab_type": "text"
      },
      "source": [
        "##**Most Man of the Match Award**"
      ]
    },
    {
      "cell_type": "code",
      "metadata": {
        "id": "p6DeAK_3CD5l",
        "colab_type": "code",
        "colab": {
          "base_uri": "https://localhost:8080/",
          "height": 217
        },
        "outputId": "90a72459-11fd-4225-b3c0-39297cc4b868"
      },
      "source": [
        "man_of_match = matches[\"player_of_match\"].value_counts().head(10)\n",
        "man_of_match"
      ],
      "execution_count": 12,
      "outputs": [
        {
          "output_type": "execute_result",
          "data": {
            "text/plain": [
              "CH Gayle          21\n",
              "AB de Villiers    20\n",
              "RG Sharma         17\n",
              "MS Dhoni          17\n",
              "DA Warner         17\n",
              "YK Pathan         16\n",
              "SR Watson         15\n",
              "SK Raina          14\n",
              "G Gambhir         13\n",
              "MEK Hussey        12\n",
              "Name: player_of_match, dtype: int64"
            ]
          },
          "metadata": {
            "tags": []
          },
          "execution_count": 12
        }
      ]
    },
    {
      "cell_type": "code",
      "metadata": {
        "id": "XBB_ZOXeCSVE",
        "colab_type": "code",
        "colab": {
          "base_uri": "https://localhost:8080/",
          "height": 320
        },
        "outputId": "f0a35932-f9de-477c-b50f-f2d34639db36"
      },
      "source": [
        "plt.figure(figsize=(12,5))\n",
        "plt.bar(list(man_of_match.keys()),list(man_of_match),color=['crimson','crimson','yellow','orange','purple','orange','yellow','yellow','indigo','crimson'])\n",
        "plt.show()"
      ],
      "execution_count": 13,
      "outputs": [
        {
          "output_type": "display_data",
          "data": {
            "image/png": "[encoded data removed]",
            "text/plain": [
              "<Figure size 864x360 with 1 Axes>"
            ]
          },
          "metadata": {
            "tags": [],
            "needs_background": "light"
          }
        }
      ]
    },
    {
      "cell_type": "markdown",
      "metadata": {
        "id": "S6jjNBNlZQS1",
        "colab_type": "text"
      },
      "source": [
        "Observations :\n",
        "1. \"The Universe Boss\" Chris Gayle has the most no. of Man of the match closely followed by his team mate from RCB, AB de Villers\n",
        "2. NO BOWLER has made it to the list of Most Man of the Matches \n"
      ]
    },
    {
      "cell_type": "markdown",
      "metadata": {
        "id": "lm6-I60NF_Go",
        "colab_type": "text"
      },
      "source": [
        "##**Match Results**"
      ]
    },
    {
      "cell_type": "code",
      "metadata": {
        "id": "1Om4wrYWETi4",
        "colab_type": "code",
        "colab": {
          "base_uri": "https://localhost:8080/",
          "height": 90
        },
        "outputId": "f6405320-d579-475b-e343-f0869e2ab04b"
      },
      "source": [
        "match_results = matches['result'].value_counts()\n",
        "match_results"
      ],
      "execution_count": 14,
      "outputs": [
        {
          "output_type": "execute_result",
          "data": {
            "text/plain": [
              "normal       743\n",
              "tie            9\n",
              "no result      4\n",
              "Name: result, dtype: int64"
            ]
          },
          "metadata": {
            "tags": []
          },
          "execution_count": 14
        }
      ]
    },
    {
      "cell_type": "markdown",
      "metadata": {
        "id": "gK2JQ8j4Z5hb",
        "colab_type": "text"
      },
      "source": [
        "Observations :\n",
        "1. An astonishing 99% Matches had a Normal Result. IPL is oraganised between March to May which are summer months in India and with a very little possibilty of rain & other disturbences. "
      ]
    },
    {
      "cell_type": "markdown",
      "metadata": {
        "id": "8KGQaYTMyDc5",
        "colab_type": "text"
      },
      "source": [
        "##**Matches Won**"
      ]
    },
    {
      "cell_type": "code",
      "metadata": {
        "id": "X0h2lxcmyCwP",
        "colab_type": "code",
        "colab": {
          "base_uri": "https://localhost:8080/",
          "height": 217
        },
        "outputId": "9b4a4e72-e8cb-4bf4-d5d3-b7b00624ed1b"
      },
      "source": [
        "match_wins = matches[\"winner\"].value_counts().head(10)\n",
        "match_wins"
      ],
      "execution_count": 15,
      "outputs": [
        {
          "output_type": "execute_result",
          "data": {
            "text/plain": [
              "Mumbai Indians                 109\n",
              "Chennai Super Kings            100\n",
              "Kolkata Knight Riders           92\n",
              "Royal Challengers Bangalore     84\n",
              "Kings XI Punjab                 82\n",
              "Rajasthan Royals                75\n",
              "Delhi Daredevils                67\n",
              "Sunrisers Hyderabad             58\n",
              "Deccan Chargers                 29\n",
              "Gujarat Lions                   13\n",
              "Name: winner, dtype: int64"
            ]
          },
          "metadata": {
            "tags": []
          },
          "execution_count": 15
        }
      ]
    },
    {
      "cell_type": "code",
      "metadata": {
        "id": "iveVQ32PyXuE",
        "colab_type": "code",
        "colab": {
          "base_uri": "https://localhost:8080/",
          "height": 417
        },
        "outputId": "8c1e7323-d93a-47c3-ec72-98b1e5c24f9a"
      },
      "source": [
        "match_wins.plot(kind='bar',color=['indigo','yellow','purple','crimson','red','blue','navy','orange','grey','pink'])"
      ],
      "execution_count": 16,
      "outputs": [
        {
          "output_type": "execute_result",
          "data": {
            "text/plain": [
              "<matplotlib.axes._subplots.AxesSubplot at 0x7fa8374cfe10>"
            ]
          },
          "metadata": {
            "tags": []
          },
          "execution_count": 16
        },
        {
          "output_type": "display_data",
          "data": {
            "image/png": "[encoded data removed]",
            "text/plain": [
              "<Figure size 432x288 with 1 Axes>"
            ]
          },
          "metadata": {
            "tags": [],
            "needs_background": "light"
          }
        }
      ]
    },
    {
      "cell_type": "markdown",
      "metadata": {
        "id": "ga6cCgY_biAn",
        "colab_type": "text"
      },
      "source": [
        "Observations :\n",
        "1. NO Suprises! Mumbai Indians and Chennai Super Kings are the two most Successfull teams in IPL's History.\n",
        "2. However,a point to note  is that Chennai was not part of IPL 2 years.\n"
      ]
    },
    {
      "cell_type": "markdown",
      "metadata": {
        "id": "9usxSLMyGfNo",
        "colab_type": "text"
      },
      "source": [
        "##**Most Toss Wins**"
      ]
    },
    {
      "cell_type": "code",
      "metadata": {
        "id": "LXKTuZNPF660",
        "colab_type": "code",
        "colab": {
          "base_uri": "https://localhost:8080/",
          "height": 217
        },
        "outputId": "192d65ee-c122-4b4d-efcc-8c8dadbd6cfd"
      },
      "source": [
        "most_toss_wins = matches[\"toss_winner\"].value_counts().head(10)\n",
        "most_toss_wins"
      ],
      "execution_count": 17,
      "outputs": [
        {
          "output_type": "execute_result",
          "data": {
            "text/plain": [
              "Mumbai Indians                 98\n",
              "Kolkata Knight Riders          92\n",
              "Chennai Super Kings            89\n",
              "Royal Challengers Bangalore    81\n",
              "Kings XI Punjab                81\n",
              "Rajasthan Royals               80\n",
              "Delhi Daredevils               80\n",
              "Sunrisers Hyderabad            46\n",
              "Deccan Chargers                43\n",
              "Pune Warriors                  20\n",
              "Name: toss_winner, dtype: int64"
            ]
          },
          "metadata": {
            "tags": []
          },
          "execution_count": 17
        }
      ]
    },
    {
      "cell_type": "code",
      "metadata": {
        "id": "cFn5kiDpGkTH",
        "colab_type": "code",
        "colab": {
          "base_uri": "https://localhost:8080/",
          "height": 417
        },
        "outputId": "448d1091-9888-46a1-97ce-08f87d92a37a"
      },
      "source": [
        "most_toss_wins.plot(kind='bar',color=[\"indigo\",\"purple\",\"blue\",\"green\",\"yellow\",\"orange\",'crimson',\"violet\",\"grey\",\"pink\"])"
      ],
      "execution_count": 18,
      "outputs": [
        {
          "output_type": "execute_result",
          "data": {
            "text/plain": [
              "<matplotlib.axes._subplots.AxesSubplot at 0x7fa8373e06a0>"
            ]
          },
          "metadata": {
            "tags": []
          },
          "execution_count": 18
        },
        {
          "output_type": "display_data",
          "data": {
            "image/png": "[encoded data removed]",
            "text/plain": [
              "<Figure size 432x288 with 1 Axes>"
            ]
          },
          "metadata": {
            "tags": [],
            "needs_background": "light"
          }
        }
      ]
    },
    {
      "cell_type": "markdown",
      "metadata": {
        "id": "-_SelCSFPZ7g",
        "colab_type": "text"
      },
      "source": [
        "##**Most wins Batting First**"
      ]
    },
    {
      "cell_type": "code",
      "metadata": {
        "id": "Rv30uLHxKHSH",
        "colab_type": "code",
        "colab": {
          "base_uri": "https://localhost:8080/",
          "height": 217
        },
        "outputId": "2a833fef-b9fc-45ca-9522-846e89ed10d9"
      },
      "source": [
        "batting_first = matches[matches[\"win_by_runs\"] != 0]\n",
        "batting_first['win_by_runs'].value_counts().head(10)"
      ],
      "execution_count": 19,
      "outputs": [
        {
          "output_type": "execute_result",
          "data": {
            "text/plain": [
              "14    13\n",
              "10    11\n",
              "4     11\n",
              "1     10\n",
              "13     9\n",
              "23     9\n",
              "7      9\n",
              "9      9\n",
              "22     9\n",
              "15     9\n",
              "Name: win_by_runs, dtype: int64"
            ]
          },
          "metadata": {
            "tags": []
          },
          "execution_count": 19
        }
      ]
    },
    {
      "cell_type": "code",
      "metadata": {
        "id": "69IqRbwOKQmX",
        "colab_type": "code",
        "colab": {
          "base_uri": "https://localhost:8080/",
          "height": 320
        },
        "outputId": "d3732abe-9d38-4f07-83b1-38b1153eceea"
      },
      "source": [
        "plt.figure(figsize=(10,5))\n",
        "plt.hist(batting_first['win_by_runs'])\n",
        "plt.show()"
      ],
      "execution_count": 20,
      "outputs": [
        {
          "output_type": "display_data",
          "data": {
            "image/png": "[encoded data removed]",
            "text/plain": [
              "<Figure size 720x360 with 1 Axes>"
            ]
          },
          "metadata": {
            "tags": [],
            "needs_background": "light"
          }
        }
      ]
    },
    {
      "cell_type": "code",
      "metadata": {
        "id": "3imZ2ujWKyRg",
        "colab_type": "code",
        "colab": {
          "base_uri": "https://localhost:8080/",
          "height": 320
        },
        "outputId": "330e183f-0776-45b5-b3e2-eadf8d0727e6"
      },
      "source": [
        "plt.figure(figsize=(15,5))\n",
        "plt.bar(list(batting_first['winner'].value_counts()[:5].keys()),list(batting_first['winner'].value_counts()[:5]),color=[\"indigo\",\"yellow\",\"red\",'purple',\"crimson\"])\n",
        "plt.show()"
      ],
      "execution_count": 21,
      "outputs": [
        {
          "output_type": "display_data",
          "data": {
            "image/png": "[encoded data removed]",
            "text/plain": [
              "<Figure size 1080x360 with 1 Axes>"
            ]
          },
          "metadata": {
            "tags": [],
            "needs_background": "light"
          }
        }
      ]
    },
    {
      "cell_type": "markdown",
      "metadata": {
        "id": "OVU42oROQQZX",
        "colab_type": "text"
      },
      "source": [
        "##**Most wins Batting Second**"
      ]
    },
    {
      "cell_type": "code",
      "metadata": {
        "id": "OxalgzbDMhUj",
        "colab_type": "code",
        "colab": {
          "base_uri": "https://localhost:8080/",
          "height": 217
        },
        "outputId": "ea95e9a1-2403-4e72-c6fa-009dc9b28791"
      },
      "source": [
        "batting_second = matches[matches['win_by_wickets'] != 0]\n",
        "batting_second['win_by_wickets'].value_counts()"
      ],
      "execution_count": 22,
      "outputs": [
        {
          "output_type": "execute_result",
          "data": {
            "text/plain": [
              "6     85\n",
              "7     80\n",
              "5     71\n",
              "8     54\n",
              "4     41\n",
              "9     37\n",
              "3     18\n",
              "10    11\n",
              "2      6\n",
              "1      3\n",
              "Name: win_by_wickets, dtype: int64"
            ]
          },
          "metadata": {
            "tags": []
          },
          "execution_count": 22
        }
      ]
    },
    {
      "cell_type": "code",
      "metadata": {
        "id": "3WxyJHh4Qbt_",
        "colab_type": "code",
        "colab": {
          "base_uri": "https://localhost:8080/",
          "height": 320
        },
        "outputId": "c492ea2e-4510-4f44-aace-bcd6b820beee"
      },
      "source": [
        "plt.figure(figsize=(10,5))\n",
        "plt.hist(batting_second['win_by_wickets'],bins=19)\n",
        "plt.show()"
      ],
      "execution_count": 23,
      "outputs": [
        {
          "output_type": "display_data",
          "data": {
            "image/png": "[encoded data removed]",
            "text/plain": [
              "<Figure size 720x360 with 1 Axes>"
            ]
          },
          "metadata": {
            "tags": [],
            "needs_background": "light"
          }
        }
      ]
    },
    {
      "cell_type": "code",
      "metadata": {
        "id": "XP_XHFlzQzaF",
        "colab_type": "code",
        "colab": {
          "base_uri": "https://localhost:8080/",
          "height": 320
        },
        "outputId": "47596805-364c-4885-def5-e1943d785f7c"
      },
      "source": [
        "plt.figure(figsize=(14,5))\n",
        "plt.bar(list(batting_second['winner'].value_counts()[:5].keys()),list(batting_second['winner'].value_counts()[:5]),color=['purple','indigo','crimson','yellow','blue',])\n",
        "plt.show()"
      ],
      "execution_count": 24,
      "outputs": [
        {
          "output_type": "display_data",
          "data": {
            "image/png": "[encoded data removed]",
            "text/plain": [
              "<Figure size 1008x360 with 1 Axes>"
            ]
          },
          "metadata": {
            "tags": [],
            "needs_background": "light"
          }
        }
      ]
    },
    {
      "cell_type": "markdown",
      "metadata": {
        "id": "K7BiedvofGOs",
        "colab_type": "text"
      },
      "source": [
        "**Observations :**\n",
        "1. Mumbai Indians perform well in both situations.\n",
        "2. KKR performs well Batting second compared to Batting First\n",
        "3. Suprisingly, CSK performs well while setting a target & dosen't perform up to the mark while chasing"
      ]
    },
    {
      "cell_type": "markdown",
      "metadata": {
        "id": "J6iTeIgCUqOf",
        "colab_type": "text"
      },
      "source": [
        "##**No. of Matches Played**"
      ]
    },
    {
      "cell_type": "code",
      "metadata": {
        "id": "dwjyKTknTiJn",
        "colab_type": "code",
        "colab": {
          "base_uri": "https://localhost:8080/",
          "height": 254
        },
        "outputId": "219e5d93-d9ae-484d-e0d0-8d7acfe2876f"
      },
      "source": [
        "no_of_matches = matches['season'].value_counts()\n",
        "no_of_matches"
      ],
      "execution_count": 25,
      "outputs": [
        {
          "output_type": "execute_result",
          "data": {
            "text/plain": [
              "2013    76\n",
              "2012    74\n",
              "2011    73\n",
              "2019    60\n",
              "2018    60\n",
              "2016    60\n",
              "2014    60\n",
              "2010    60\n",
              "2017    59\n",
              "2015    59\n",
              "2008    58\n",
              "2009    57\n",
              "Name: season, dtype: int64"
            ]
          },
          "metadata": {
            "tags": []
          },
          "execution_count": 25
        }
      ]
    },
    {
      "cell_type": "code",
      "metadata": {
        "id": "Db_OCo1z0_oe",
        "colab_type": "code",
        "colab": {
          "base_uri": "https://localhost:8080/",
          "height": 299
        },
        "outputId": "922d7acb-9b85-47a3-9010-98cf677aa6c3"
      },
      "source": [
        "no_of_matches.plot(kind='bar')"
      ],
      "execution_count": 26,
      "outputs": [
        {
          "output_type": "execute_result",
          "data": {
            "text/plain": [
              "<matplotlib.axes._subplots.AxesSubplot at 0x7fa8371e0550>"
            ]
          },
          "metadata": {
            "tags": []
          },
          "execution_count": 26
        },
        {
          "output_type": "display_data",
          "data": {
            "image/png": "[encoded data removed]",
            "text/plain": [
              "<Figure size 432x288 with 1 Axes>"
            ]
          },
          "metadata": {
            "tags": [],
            "needs_background": "light"
          }
        }
      ]
    },
    {
      "cell_type": "markdown",
      "metadata": {
        "id": "Kht0wiEcdwjx",
        "colab_type": "text"
      },
      "source": [
        "**Observations :**\n",
        "1. Pune Warriors India and Kochi Tuskers Kerela were added in 4th Season(2011) of IPL,which is why there is a increase in no. of matches pplayed. However, each team only played 14 matches before the Qualifiers.\n",
        "2. Kochi Tuskers Kerela were removed from 5th edition(2012). However,the no. of matches played are more than previous year because each played 16 matches before Qualifiers as compared to 14 Matches in the earliers edition."
      ]
    },
    {
      "cell_type": "markdown",
      "metadata": {
        "id": "xa9oobHP1ibK",
        "colab_type": "text"
      },
      "source": [
        "##**Popular Venues**"
      ]
    },
    {
      "cell_type": "code",
      "metadata": {
        "id": "6Z1X8NemUy1L",
        "colab_type": "code",
        "colab": {
          "base_uri": "https://localhost:8080/",
          "height": 217
        },
        "outputId": "17cbef8d-c2e8-4fd6-ba92-f71d7215a1e6"
      },
      "source": [
        "venues = matches['venue'].value_counts().head(10)\n",
        "venues"
      ],
      "execution_count": 73,
      "outputs": [
        {
          "output_type": "execute_result",
          "data": {
            "text/plain": [
              "Eden Gardens                                  77\n",
              "Wankhede Stadium                              73\n",
              "M Chinnaswamy Stadium                         73\n",
              "Feroz Shah Kotla                              67\n",
              "Rajiv Gandhi International Stadium, Uppal     56\n",
              "MA Chidambaram Stadium, Chepauk               49\n",
              "Sawai Mansingh Stadium                        47\n",
              "Punjab Cricket Association Stadium, Mohali    35\n",
              "Maharashtra Cricket Association Stadium       21\n",
              "Dr DY Patil Sports Academy                    17\n",
              "Name: venue, dtype: int64"
            ]
          },
          "metadata": {
            "tags": []
          },
          "execution_count": 73
        }
      ]
    },
    {
      "cell_type": "code",
      "metadata": {
        "id": "nrwJa6c_1HdU",
        "colab_type": "code",
        "colab": {
          "base_uri": "https://localhost:8080/",
          "height": 815
        },
        "outputId": "88aa83d1-d64c-4d85-8c9a-bc12234e2738"
      },
      "source": [
        "plt.figure(figsize=(10,10))\n",
        "venues.plot(kind='bar',color=['purple','indigo','crimson','navy','yellow','blue','red','pink','indigo'])"
      ],
      "execution_count": 74,
      "outputs": [
        {
          "output_type": "execute_result",
          "data": {
            "text/plain": [
              "<matplotlib.axes._subplots.AxesSubplot at 0x7fa82d043278>"
            ]
          },
          "metadata": {
            "tags": []
          },
          "execution_count": 74
        },
        {
          "output_type": "display_data",
          "data": {
            "image/png": "[encoded data removed]",
            "text/plain": [
              "<Figure size 720x720 with 1 Axes>"
            ]
          },
          "metadata": {
            "tags": [],
            "needs_background": "light"
          }
        }
      ]
    },
    {
      "cell_type": "markdown",
      "metadata": {
        "id": "FEqx6LomciVz",
        "colab_type": "text"
      },
      "source": [
        "**Observation :**\n",
        "1. Eden Gardens, M Chinnaswamy, Wankhede, and Feroz Shah Kotla are stadiums with most matches\n",
        "2. Mostly eliminators, qualifiers and final of each season are played in these locations"
      ]
    },
    {
      "cell_type": "markdown",
      "metadata": {
        "id": "pN5PF3xpVw68",
        "colab_type": "text"
      },
      "source": [
        "##**% Wins by teams who won the toss**"
      ]
    },
    {
      "cell_type": "code",
      "metadata": {
        "id": "Wc7nntxHVB6H",
        "colab_type": "code",
        "colab": {}
      },
      "source": [
        "matches_toss = np.sum(matches['toss_winner'] == matches['winner'])\n",
        "total_matches = matches['id'].count()"
      ],
      "execution_count": null,
      "outputs": []
    },
    {
      "cell_type": "code",
      "metadata": {
        "id": "4KTpvJpVVjzq",
        "colab_type": "code",
        "colab": {}
      },
      "source": [
        "percent = round((matches_toss/total_matches) *100,2) \n",
        "print(str(percent) + str(\" %\"))"
      ],
      "execution_count": null,
      "outputs": []
    },
    {
      "cell_type": "markdown",
      "metadata": {
        "id": "ADi892i0b2ce",
        "colab_type": "text"
      },
      "source": [
        "**Observations :**\n",
        "1. The % is close to 50,to which we can conclude that toss dosen't play that much important role in IPL"
      ]
    }
  ]
}